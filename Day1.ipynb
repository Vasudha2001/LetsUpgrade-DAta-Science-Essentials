{
 "cells": [
  {
   "cell_type": "markdown",
   "metadata": {},
   "source": [
    "# DAY 1 ASSIGNMENT"
   ]
  },
  {
   "cell_type": "markdown",
   "metadata": {},
   "source": [
    "## QUESTION 1\n",
    "\n",
    "### Given the following jumbled word, OBANWRI guess the correct English word."
   ]
  },
  {
   "cell_type": "markdown",
   "metadata": {},
   "source": [
    "RAINBOW"
   ]
  },
  {
   "cell_type": "markdown",
   "metadata": {},
   "source": [
    "## Question 2\n",
    "\n",
    "### Write a program which prints “LETS UPGRADE”. (Please note that you have to print in ALL CAPS as given)"
   ]
  },
  {
   "cell_type": "code",
   "execution_count": 2,
   "metadata": {},
   "outputs": [
    {
     "name": "stdout",
     "output_type": "stream",
     "text": [
      "LETS UPGRADE\n"
     ]
    }
   ],
   "source": [
    "s1=\"LETS UPGRADE\"\n",
    "print(s1)"
   ]
  },
  {
   "cell_type": "markdown",
   "metadata": {},
   "source": [
    "## Question 3\n",
    "\n",
    "### Write a program that takes cost price and selling price as input and displays whether the transaction is a Profit or a Loss or Neither."
   ]
  },
  {
   "cell_type": "code",
   "execution_count": 3,
   "metadata": {},
   "outputs": [
    {
     "name": "stdout",
     "output_type": "stream",
     "text": [
      "40\n",
      "60\n",
      "PROFIT\n"
     ]
    }
   ],
   "source": [
    "CP=int(input())\n",
    "SP=int(input())\n",
    "if SP>CP:\n",
    "    print(\"PROFIT\")\n",
    "elif SP<CP:\n",
    "    print(\"LOSS\")\n",
    "elif SP==CP:\n",
    "    print(\"NEITHER\")"
   ]
  },
  {
   "cell_type": "markdown",
   "metadata": {},
   "source": [
    "## Question 4\n",
    "\n",
    "### Write a program that takes an amount in Euros as input. You need to find its equivalent in Rupees and display it. Assume 1 Euro equals Rs. 80.\n"
   ]
  },
  {
   "cell_type": "code",
   "execution_count": 7,
   "metadata": {},
   "outputs": [
    {
     "name": "stdout",
     "output_type": "stream",
     "text": [
      "60\n",
      "4800\n"
     ]
    }
   ],
   "source": [
    "Euros=int(input())\n",
    "Rupees=Euros*80\n",
    "print(Rupees)"
   ]
  }
 ],
 "metadata": {
  "kernelspec": {
   "display_name": "Python 3",
   "language": "python",
   "name": "python3"
  },
  "language_info": {
   "codemirror_mode": {
    "name": "ipython",
    "version": 3
   },
   "file_extension": ".py",
   "mimetype": "text/x-python",
   "name": "python",
   "nbconvert_exporter": "python",
   "pygments_lexer": "ipython3",
   "version": "3.8.3"
  }
 },
 "nbformat": 4,
 "nbformat_minor": 4
}
