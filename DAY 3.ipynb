{
 "cells": [
  {
   "cell_type": "markdown",
   "metadata": {},
   "source": [
    "# DAY 3 ASSIGNMENT "
   ]
  },
  {
   "cell_type": "markdown",
   "metadata": {},
   "source": [
    "## Question 1:\n",
    "\n",
    "###  Create a numpy array starting from 2 till 50 with a stepsize of 3."
   ]
  },
  {
   "cell_type": "code",
   "execution_count": 1,
   "metadata": {},
   "outputs": [
    {
     "name": "stdout",
     "output_type": "stream",
     "text": [
      "[ 2  5  8 11 14 17 20 23 26 29 32 35 38 41 44 47]\n"
     ]
    }
   ],
   "source": [
    "import numpy as np \n",
    "print(np.arange(2, 50, 3))"
   ]
  },
  {
   "cell_type": "markdown",
   "metadata": {},
   "source": [
    "## Question 2:\n",
    "\n",
    "### Accept two lists of 5 elements each from the user.Convert them to numpy arrays. Concatenate these arrays and print it. Also sort these arrays and print it."
   ]
  },
  {
   "cell_type": "code",
   "execution_count": 2,
   "metadata": {},
   "outputs": [
    {
     "name": "stdout",
     "output_type": "stream",
     "text": [
      "Enter the size of list 6\n",
      "\n",
      "\n",
      "Enter the list numbers separated by space 5 8 9 6 2 3 \n",
      "First List:  [5, 8, 9, 6, 2, 3]\n",
      "\n",
      "\n",
      "Enter the size of list 6\n",
      "\n",
      "\n",
      "Enter the list numbers separated by space 8 9 5 4 7 2\n",
      "Second List:  [8, 9, 5, 4, 7, 2]\n",
      "\n",
      "\n",
      "Array1 as Numpy_Array  [5 8 9 6 2 3]\n",
      "Array2 as Numpy_Array  [8 9 5 4 7 2]\n",
      "\n",
      "\n",
      "Concatenated array  [5 8 9 6 2 3 8 9 5 4 7 2]\n",
      "\n",
      "\n",
      "Sorted Array  [2 2 3 4 5 5 6 7 8 8 9 9]\n"
     ]
    }
   ],
   "source": [
    "import numpy\n",
    "First_list = int(input(\"Enter the size of list \"))\n",
    "print(\"\\n\")\n",
    "numList_1 = list(int(num) for num in input(\"Enter the list numbers separated by space \").strip().split())[:First_list]\n",
    "print(\"First List: \", numList_1)\n",
    "print(\"\\n\")\n",
    "Second_list = int(input(\"Enter the size of list \"))\n",
    "print(\"\\n\")\n",
    "numList_2 = list(int(num) for num in input(\"Enter the list numbers separated by space \").strip().split())[:Second_list]\n",
    "print(\"Second List: \", numList_2)\n",
    "print(\"\\n\")\n",
    "Array_1 = numpy.array(numList_1)\n",
    "Array_2 = numpy.array(numList_2)\n",
    "\n",
    "print(\"Array1 as Numpy_Array \",Array_1)\n",
    "print(\"Array2 as Numpy_Array \",Array_2)\n",
    "print(\"\\n\")\n",
    "\n",
    "Concatenated_array = numpy.concatenate((Array_1, Array_2), axis=0)\n",
    "print(\"Concatenated array \", Concatenated_array)\n",
    "print(\"\\n\")\n",
    "Concatenated_array.sort()\n",
    "print(\"Sorted Array \", Concatenated_array)"
   ]
  },
  {
   "cell_type": "markdown",
   "metadata": {},
   "source": [
    "## Question 3:\n",
    "\n",
    "### Write a code snippet to find the dimensions of a ndarray and its size."
   ]
  },
  {
   "cell_type": "code",
   "execution_count": 3,
   "metadata": {},
   "outputs": [
    {
     "name": "stdout",
     "output_type": "stream",
     "text": [
      "2D Numpy Array\n",
      "[[11 12 13 11]\n",
      " [21 22 23 24]\n",
      " [31 32 33 34]]\n",
      "\n",
      "\n",
      "Number of Rows :  3\n",
      "Number of Columns :  4\n"
     ]
    }
   ],
   "source": [
    "arr2D = np.array([[11 ,12,13,11], [21, 22, 23, 24], [31,32,33,34]])\n",
    "print('2D Numpy Array')\n",
    "print(arr2D)\n",
    "print(\"\\n\")\n",
    "numOfRows = np.size(arr2D, 0)\n",
    "numOfColumns = np.size(arr2D, 1)\n",
    "print('Number of Rows : ', numOfRows)\n",
    "print('Number of Columns : ', numOfColumns)"
   ]
  },
  {
   "cell_type": "markdown",
   "metadata": {},
   "source": [
    "## Quesion 4:\n",
    "\n",
    "###  How to convert a 1D array into a 2D array? Demonstrate with the help of a code snippet"
   ]
  },
  {
   "cell_type": "code",
   "execution_count": 4,
   "metadata": {},
   "outputs": [
    {
     "name": "stdout",
     "output_type": "stream",
     "text": [
      "1D Numpy array:\n",
      "[0 1 2 3 4 5 6 7 8 9]\n",
      "\n",
      "\n",
      "2D Array \n",
      "[[0 1 2 3 4]\n",
      " [5 6 7 8 9]]\n"
     ]
    }
   ],
   "source": [
    "arr = np.array([0, 1, 2, 3, 4, 5, 6, 7, 8, 9])\n",
    "print('1D Numpy array:')\n",
    "print(arr)\n",
    "print(\"\\n\")\n",
    "arr = np.array([0, 1, 2, 3, 4, 5, 6, 7, 8, 9])\n",
    "arr_2d = np.reshape(arr, (2, 5))\n",
    "print(\"2D Array \")\n",
    "print(arr_2d)"
   ]
  },
  {
   "cell_type": "markdown",
   "metadata": {},
   "source": [
    "## Question 5:\n",
    "\n",
    "### Consider two square numpy arrays. Stack them vertically and horizontally."
   ]
  },
  {
   "cell_type": "code",
   "execution_count": 5,
   "metadata": {},
   "outputs": [
    {
     "name": "stdout",
     "output_type": "stream",
     "text": [
      "Vertical stacking:\n",
      " [[1 2]\n",
      " [3 4]\n",
      " [5 6]\n",
      " [7 8]]\n",
      "\n",
      "Horizontal stacking:\n",
      " [[1 2 5 6]\n",
      " [3 4 7 8]]\n"
     ]
    }
   ],
   "source": [
    "a = np.array([[1, 2], \n",
    "              [3, 4]]) \n",
    "b = np.array([[5, 6], \n",
    "              [7, 8]]) \n",
    "print(\"Vertical stacking:\\n\", np.vstack((a, b))) \n",
    "print(\"\\nHorizontal stacking:\\n\", np.hstack((a, b)))"
   ]
  },
  {
   "cell_type": "markdown",
   "metadata": {},
   "source": [
    "## Question 6:\n",
    "\n",
    "### How to get unique items and counts of unique items?"
   ]
  },
  {
   "cell_type": "code",
   "execution_count": 6,
   "metadata": {},
   "outputs": [
    {
     "name": "stdout",
     "output_type": "stream",
     "text": [
      "The unique values from 1st list is\n",
      "[10 20 30 40]\n",
      "No of unique items in the list are: 4\n"
     ]
    }
   ],
   "source": [
    "def unique(list1): \n",
    "    x = np.array(list1) \n",
    "    print(np.unique(x))  \n",
    "list1 = [10, 20, 10, 30, 40, 40] \n",
    "print(\"The unique values from 1st list is\") \n",
    "unique(list1) \n",
    "new_set = set(list1) \n",
    "print(\"No of unique items in the list are:\", len(new_set))"
   ]
  }
 ],
 "metadata": {
  "kernelspec": {
   "display_name": "Python 3",
   "language": "python",
   "name": "python3"
  },
  "language_info": {
   "codemirror_mode": {
    "name": "ipython",
    "version": 3
   },
   "file_extension": ".py",
   "mimetype": "text/x-python",
   "name": "python",
   "nbconvert_exporter": "python",
   "pygments_lexer": "ipython3",
   "version": "3.8.3"
  }
 },
 "nbformat": 4,
 "nbformat_minor": 4
}
